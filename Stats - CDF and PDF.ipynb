{
 "cells": [
  {
   "cell_type": "code",
   "execution_count": 2,
   "metadata": {},
   "outputs": [],
   "source": [
    "import numpy as np\n",
    "import matplotlib as mpl\n",
    "import matplotlib.pyplot as plt\n",
    "import pandas as pd\n",
    "import scipy.stats as stats\n",
    "from scipy.stats import binom\n",
    "%matplotlib inline"
   ]
  },
  {
   "cell_type": "code",
   "execution_count": 80,
   "metadata": {},
   "outputs": [
    {
     "name": "stdout",
     "output_type": "stream",
     "text": [
      "3.8\n",
      "a) The percent of years this portfolio will lose money is: 32.9 %\n"
     ]
    }
   ],
   "source": [
    "\n",
    "mean_a = 14.7\n",
    "stddev_a =33\n",
    "years_size = 1000000\n",
    "normal_data = np.random.normal(mean_a,stddev_a,years_size)\n",
    "a=np.count_nonzero(normal_data<0)\n",
    "years_negp=round(((a/years_size)*100),1)\n",
    "\n",
    "print(\"3.8\\na) The percent of years this portfolio will lose money is:\",years_negp,\"%\")"
   ]
  },
  {
   "cell_type": "code",
   "execution_count": 85,
   "metadata": {},
   "outputs": [
    {
     "name": "stdout",
     "output_type": "stream",
     "text": [
      "3.8\n",
      "b) The percent years this portfolio will lose money is: 32.8 %\n"
     ]
    },
    {
     "data": {
      "text/plain": [
       "32.8"
      ]
     },
     "execution_count": 85,
     "metadata": {},
     "output_type": "execute_result"
    }
   ],
   "source": [
    "\n",
    "p_s=(-14.7/33)\n",
    "\n",
    "ansa=(stats.norm.cdf(p_s)*100)\n",
    "ansa=round(ansa,1)\n",
    "print(\"3.8\\na) The percent years this portfolio will lose money is:\",ansa,\"%\")\n",
    "ansa"
   ]
  },
  {
   "cell_type": "code",
   "execution_count": 86,
   "metadata": {},
   "outputs": [
    {
     "name": "stdout",
     "output_type": "stream",
     "text": [
      "3.8\n",
      "b) The cutoff for the highest 15% of annual return is: 48.9 %\n"
     ]
    }
   ],
   "source": [
    "\n",
    "z_s=stats.norm.ppf(.85)\n",
    "\n",
    "ansb=(z_s*stddev_a)+14.7\n",
    "ansb=round(ansb,1)\n",
    "print(\"3.8\\nb) The cutoff for the highest 15% of annual return is:\",ansb,\"%\")"
   ]
  },
  {
   "cell_type": "code",
   "execution_count": 7,
   "metadata": {},
   "outputs": [
    {
     "data": {
      "text/plain": [
       "array([3.64287758e-01, 1.23387789e-01, 2.47660078e-02, 3.26218920e-03,\n",
       "       2.94649347e-04, 1.84815899e-05, 7.94907092e-07, 2.24368937e-08,\n",
       "       3.75288545e-10, 2.82475249e-12])"
      ]
     },
     "execution_count": 7,
     "metadata": {},
     "output_type": "execute_result"
    }
   ],
   "source": [
    "c=np.arange(1,11)\n",
    "\n",
    "data_binom = binom.pmf(k=c,n=10,p=0.07,loc=0)\n",
    "data_binom"
   ]
  },
  {
   "cell_type": "code",
   "execution_count": 88,
   "metadata": {},
   "outputs": [
    {
     "name": "stdout",
     "output_type": "stream",
     "text": [
      "3.32\n",
      "a) The probability that atleast 1 teenager will get arachnophobia is: 51.6 %\n"
     ]
    }
   ],
   "source": [
    "n=10\n",
    "p=.07\n",
    "N=1000000\n",
    "ac=np.random.binomial(n,p,N)\n",
    "c0=np.count_nonzero(ac == 0)\n",
    "at1=round((1-c0/1000000)*100,1)\n",
    "print(\"3.32\\na) The probability that atleast 1 teenager will get arachnophobia is:\",at1,\"%\") \n"
   ]
  },
  {
   "cell_type": "code",
   "execution_count": 89,
   "metadata": {},
   "outputs": [
    {
     "name": "stdout",
     "output_type": "stream",
     "text": [
      "3.32\n",
      "b) The probability that exactly 2 teenager will get arachnophobia is: 12.4 %\n"
     ]
    }
   ],
   "source": [
    "c2=np.count_nonzero(ac == 2)\n",
    "at2=round((c2/1000000)*100,1)\n",
    "print(\"3.32\\nb) The probability that exactly 2 teenager will get arachnophobia is:\",at2,\"%\")"
   ]
  },
  {
   "cell_type": "code",
   "execution_count": 90,
   "metadata": {},
   "outputs": [
    {
     "name": "stdout",
     "output_type": "stream",
     "text": [
      "3.32\n",
      "c) The probability that atmost 1 teenager will get arachnophobia is: 84.8 %\n"
     ]
    }
   ],
   "source": [
    "c1=np.count_nonzero(ac<=1)\n",
    "at11=round((c1/1000000)*100,1)\n",
    "print(\"3.32\\nc) The probability that atmost 1 teenager will get arachnophobia is:\",at11,\"%\")"
   ]
  },
  {
   "cell_type": "code",
   "execution_count": 91,
   "metadata": {},
   "outputs": [
    {
     "name": "stdout",
     "output_type": "stream",
     "text": [
      "3.32\n",
      "d) The probability that more than one teenager will have arachnophobia is: 15.2 %. Since the probability is so low, it is reasonable for counselor to randomly assign teenagers to tents\n"
     ]
    }
   ],
   "source": [
    "c10=np.count_nonzero(ac>1)\n",
    "at10=round((c10/1000000)*100,1)\n",
    "print(\"3.32\\nd) The probability that more than one teenager will have arachnophobia is:\",at10,\"%. Since the probability is so low, it is reasonable for counselor to randomly assign teenagers to tents\")\n"
   ]
  },
  {
   "cell_type": "code",
   "execution_count": 92,
   "metadata": {},
   "outputs": [
    {
     "name": "stdout",
     "output_type": "stream",
     "text": [
      "4.10\n",
      "a) False, since the p value of 0.8 is higher than the significance value of 0.01, therefore we cannot reject the null hypothesis\n"
     ]
    }
   ],
   "source": [
    "h0=50\n",
    "x=52\n",
    "se=2.4\n",
    "z0=stats.norm.ppf(.1)\n",
    "z=(x-h0)/se\n",
    "p=stats.norm.cdf(z)\n",
    "\n",
    "print(\"4.10\\na) False, since the p value of\",round(p,2),\"is higher than the significance value of 0.01, therefore we cannot reject the null hypothesis\")"
   ]
  },
  {
   "cell_type": "code",
   "execution_count": 93,
   "metadata": {},
   "outputs": [
    {
     "name": "stdout",
     "output_type": "stream",
     "text": [
      "4.10\n",
      "b) False, the standard error tells us how far most of the estimates form the mean\n"
     ]
    }
   ],
   "source": [
    "print(\"4.10\\nb) False, the standard error tells us how far most of the estimates form the mean\")"
   ]
  },
  {
   "cell_type": "code",
   "execution_count": 94,
   "metadata": {},
   "outputs": [
    {
     "name": "stdout",
     "output_type": "stream",
     "text": [
      "4.10\n",
      "c) False, collectcing less data will most likely have higher standard error as it woudl mena there is high variance possibly. Collecting more data will reduce the standard error\n"
     ]
    }
   ],
   "source": [
    "print(\"4.10\\nc) False, collectcing less data will most likely have higher standard error as it woudl mena there is high variance possibly. Collecting more data will reduce the standard error\")"
   ]
  },
  {
   "cell_type": "code",
   "execution_count": 104,
   "metadata": {},
   "outputs": [
    {
     "name": "stdout",
     "output_type": "stream",
     "text": [
      "4.10\n",
      "d) False because as the confidence level increases, the interval becomes wider. So the 90% confidence interval will be narrower than the 99% confidence interval.\n"
     ]
    }
   ],
   "source": [
    "print(\"4.10\\nd) False because as the confidence level increases, the interval becomes wider. So the 90% confidence interval will be narrower than the 99% confidence interval.\")"
   ]
  },
  {
   "cell_type": "code",
   "execution_count": 102,
   "metadata": {},
   "outputs": [
    {
     "name": "stdout",
     "output_type": "stream",
     "text": [
      "4.30\n",
      "a) H0= The resturants meets regulation\n",
      "Ha= The resturant does not meet regulation\n"
     ]
    }
   ],
   "source": [
    "print(\"4.30\\na) H0= The resturants meets regulation\\nHa= The resturant does not meet regulation\")"
   ]
  },
  {
   "cell_type": "code",
   "execution_count": 96,
   "metadata": {},
   "outputs": [
    {
     "name": "stdout",
     "output_type": "stream",
     "text": [
      "4.30\n",
      "b) Type 1 Error: The resturant meets regulation but hypothesis testing shows otherwise.\n"
     ]
    }
   ],
   "source": [
    "print(\"4.30\\nb) Type 1 Error: The resturant meets regulation but hypothesis testing shows otherwise.\")"
   ]
  },
  {
   "cell_type": "code",
   "execution_count": 97,
   "metadata": {},
   "outputs": [
    {
     "name": "stdout",
     "output_type": "stream",
     "text": [
      "4.30\n",
      "c) Type 2 error:  The resturant does not meet regulation but hypothesis testing shows otherwise.\n"
     ]
    }
   ],
   "source": [
    "print(\"4.30\\nc) Type 2 error:  The resturant does not meet regulation but hypothesis testing shows otherwise.\")"
   ]
  },
  {
   "cell_type": "code",
   "execution_count": 40,
   "metadata": {},
   "outputs": [
    {
     "name": "stdout",
     "output_type": "stream",
     "text": [
      "Type 1 is more problemetic for the resturant owner as the resturant is accused and punished for not meeting regulations even thought the restuarant meets regulation \n"
     ]
    }
   ],
   "source": [
    "print(\"4.30\\nd) Type 1 is more problemetic for the resturant owner as the resturant is accused and punished for not meeting regulations even thought the restuarant meets regulation \")"
   ]
  },
  {
   "cell_type": "code",
   "execution_count": 98,
   "metadata": {},
   "outputs": [
    {
     "name": "stdout",
     "output_type": "stream",
     "text": [
      "4.30\n",
      "e) Type 2 is problemetic for dinners because the resturant does not meet regulations and would mean their food might be containated\n"
     ]
    }
   ],
   "source": [
    "print(\"4.30\\ne) Type 2 is problemetic for dinners because the resturant does not meet regulations and would mean their food might be containated\")"
   ]
  },
  {
   "cell_type": "code",
   "execution_count": 99,
   "metadata": {},
   "outputs": [
    {
     "name": "stdout",
     "output_type": "stream",
     "text": [
      "4.30\n",
      "f) As a dinner I would prefer the inspector requires medium to strong evidence to revoke license as it envolves health of the dinners. It should be tested how other resturants are tested so the testing is fair.\n"
     ]
    }
   ],
   "source": [
    "print(\"4.30\\nf) As a dinner I would prefer the inspector requires medium to strong evidence to revoke license as it envolves health of the dinners. It should be tested how other resturants are tested so the testing is fair.\")"
   ]
  },
  {
   "cell_type": "code",
   "execution_count": null,
   "metadata": {},
   "outputs": [],
   "source": [
    "                        "
   ]
  },
  {
   "cell_type": "code",
   "execution_count": 100,
   "metadata": {},
   "outputs": [
    {
     "name": "stdout",
     "output_type": "stream",
     "text": [
      "5.4\n",
      "a) The p-value is: 0.010002400548908942\n",
      "The null hypothesis can not be rejected\n"
     ]
    }
   ],
   "source": [
    "from scipy.stats import t\n",
    "\n",
    "pv1=t.sf(2.485,25)\n",
    "\n",
    "print(\"5.4\\na) The p-value is:\", pv1)\n",
    "\n",
    "if pv1>0.01:\n",
    "    print(\"The null hypothesis can not be rejected\")\n",
    "else:\n",
    "    print(\"The null hypothesis can be rejected\")\n",
    "\n"
   ]
  },
  {
   "cell_type": "code",
   "execution_count": 101,
   "metadata": {},
   "outputs": [
    {
     "name": "stdout",
     "output_type": "stream",
     "text": [
      "5.4\n",
      "b) The p-value is: 0.31174260328285575\n",
      "The null hypothesis can not be rejected\n"
     ]
    }
   ],
   "source": [
    "pv2=t.sf(0.5,17)\n",
    "\n",
    "print(\"5.4\\nb) The p-value is:\", pv2)\n",
    "\n",
    "if pv2>0.01:\n",
    "    print(\"The null hypothesis can not be rejected\")\n",
    "else:\n",
    "    print(\"The null hypothesis can be rejected\")\n",
    "    \n"
   ]
  },
  {
   "cell_type": "code",
   "execution_count": 63,
   "metadata": {},
   "outputs": [
    {
     "name": "stdout",
     "output_type": "stream",
     "text": [
      "5.20\n",
      "a: Its difficult to see the difference in the average for reading and writing scores. It seems to be centered around 0\n"
     ]
    }
   ],
   "source": [
    "print(\"5.20\")\n",
    "print(\"a:\",\"Its difficult to see the difference in the average for reading and writing scores. It seems to be centered around 0\")"
   ]
  },
  {
   "cell_type": "code",
   "execution_count": 62,
   "metadata": {},
   "outputs": [
    {
     "name": "stdout",
     "output_type": "stream",
     "text": [
      "5.20\n",
      "b: From the data, it can be deduced that the score of each students are independent of each other. The reading and writing scores looks to be not independent for each student.\n"
     ]
    }
   ],
   "source": [
    "print(\"5.20\\nb: From the data, it can be deduced that the score of each students are independent of each other. The reading and writing scores looks to be not independent for each student.\")"
   ]
  },
  {
   "cell_type": "code",
   "execution_count": 61,
   "metadata": {},
   "outputs": [
    {
     "name": "stdout",
     "output_type": "stream",
     "text": [
      "5.20\n",
      "c)\n",
      "H0= mur-muw= 0, The difference between reading writing scores per student is zero\n",
      "Ha= mur-muw!=0, the difference in reading and writing scores per student does not equal. \n"
     ]
    }
   ],
   "source": [
    "print(\"5.20\\nc)\\nH0= mur-muw= 0, The difference between reading writing scores per student is zero\\nHa= mur-muw!=0, the difference in reading and writing scores per student does not equal. \")"
   ]
  },
  {
   "cell_type": "code",
   "execution_count": 67,
   "metadata": {},
   "outputs": [
    {
     "name": "stdout",
     "output_type": "stream",
     "text": [
      "5.20\n",
      "d)\n",
      "Make sure the data is independent, histogram shows dependent\n",
      "Does the study show normal distribution which in this case the box plots show normal distributions.\n"
     ]
    }
   ],
   "source": [
    "print(\"5.20\\nd)\\nMake sure the data is independent, histogram shows dependent\\nDoes the study show normal distribution which in this case the box plots show normal distributions.\")"
   ]
  },
  {
   "cell_type": "code",
   "execution_count": 74,
   "metadata": {},
   "outputs": [
    {
     "name": "stdout",
     "output_type": "stream",
     "text": [
      "5.20\n",
      "e)\n",
      "Since the p-value of 0.8065817629003265 is not less than 0.05 we cannot reject the null hypothesis of ur-uw=0\n"
     ]
    }
   ],
   "source": [
    "print(\"5.20\\ne)\")\n",
    "mean=-0.545\n",
    "us=0\n",
    "std=8.887\n",
    "n=200\n",
    "\n",
    "df=n-1\n",
    "se=std/np.sqrt(n)\n",
    "\n",
    "tval=(mean-us)/se\n",
    "\n",
    "pvs=t.sf(tval,df)\n",
    "\n",
    "print(\"Since the p-value of\",pvs,\"is not less than 0.05 we cannot reject the null hypothesis of ur-uw=0\")"
   ]
  },
  {
   "cell_type": "code",
   "execution_count": 77,
   "metadata": {},
   "outputs": [
    {
     "name": "stdout",
     "output_type": "stream",
     "text": [
      "5.20\n",
      "We may have made a type 2 error which means that we might have rejected that there is difference in average reading and writing exam scores for students \n"
     ]
    }
   ],
   "source": [
    "print(\"5.20\\nWe may have made a type 2 error which means that we might have rejected that there is difference in average reading and writing exam scores for students \")"
   ]
  },
  {
   "cell_type": "code",
   "execution_count": null,
   "metadata": {},
   "outputs": [],
   "source": [
    "print(\"5.20\\ng)\\nYes, Iw oudl expect confidence interval to include 0 in thsi application because it will indicate the difference is not in one side or another\")"
   ]
  }
 ],
 "metadata": {
  "kernelspec": {
   "display_name": "Python 3",
   "language": "python",
   "name": "python3"
  },
  "language_info": {
   "codemirror_mode": {
    "name": "ipython",
    "version": 3
   },
   "file_extension": ".py",
   "mimetype": "text/x-python",
   "name": "python",
   "nbconvert_exporter": "python",
   "pygments_lexer": "ipython3",
   "version": "3.7.6"
  }
 },
 "nbformat": 4,
 "nbformat_minor": 2
}
