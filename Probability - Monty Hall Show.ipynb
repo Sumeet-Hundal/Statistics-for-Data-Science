{
 "cells": [
  {
   "cell_type": "markdown",
   "metadata": {},
   "source": [
    "## Assignment 2"
   ]
  },
  {
   "cell_type": "markdown",
   "metadata": {},
   "source": [
    "### Exercise 3.30"
   ]
  },
  {
   "cell_type": "markdown",
   "metadata": {},
   "source": [
    "##### (a) Find the probability of drawing a hardcover book first then a paperback fiction book second when drawing without replacement"
   ]
  },
  {
   "cell_type": "code",
   "execution_count": 92,
   "metadata": {},
   "outputs": [],
   "source": [
    "import numpy as np\n",
    "import math\n",
    "import matplotlib.pyplot as plt\n",
    "import plotly.express as px\n",
    "import scipy.stats as stats\n",
    "import pandas as pd"
   ]
  },
  {
   "cell_type": "code",
   "execution_count": 166,
   "metadata": {},
   "outputs": [
    {
     "data": {
      "text/html": [
       "<div>\n",
       "<style scoped>\n",
       "    .dataframe tbody tr th:only-of-type {\n",
       "        vertical-align: middle;\n",
       "    }\n",
       "\n",
       "    .dataframe tbody tr th {\n",
       "        vertical-align: top;\n",
       "    }\n",
       "\n",
       "    .dataframe thead th {\n",
       "        text-align: right;\n",
       "    }\n",
       "</style>\n",
       "<table border=\"1\" class=\"dataframe\">\n",
       "  <thead>\n",
       "    <tr style=\"text-align: right;\">\n",
       "      <th></th>\n",
       "      <th>Hardcover</th>\n",
       "      <th>Paperback</th>\n",
       "      <th>Total</th>\n",
       "    </tr>\n",
       "  </thead>\n",
       "  <tbody>\n",
       "    <tr>\n",
       "      <td>Fiction</td>\n",
       "      <td>13</td>\n",
       "      <td>59</td>\n",
       "      <td>72</td>\n",
       "    </tr>\n",
       "    <tr>\n",
       "      <td>Nonfiction</td>\n",
       "      <td>15</td>\n",
       "      <td>8</td>\n",
       "      <td>23</td>\n",
       "    </tr>\n",
       "    <tr>\n",
       "      <td>Total</td>\n",
       "      <td>28</td>\n",
       "      <td>67</td>\n",
       "      <td>95</td>\n",
       "    </tr>\n",
       "  </tbody>\n",
       "</table>\n",
       "</div>"
      ],
      "text/plain": [
       "            Hardcover  Paperback  Total\n",
       "Fiction            13         59     72\n",
       "Nonfiction         15          8     23\n",
       "Total              28         67     95"
      ]
     },
     "execution_count": 166,
     "metadata": {},
     "output_type": "execute_result"
    }
   ],
   "source": [
    "df=pd.DataFrame(data=[[13,59,72],[15,8,23],[28,67,95]],columns=[\"Hardcover\", \"Paperback\", \"Total\"], index=[\"Fiction\", \"Nonfiction\", \"Total\"])\n",
    "df"
   ]
  },
  {
   "cell_type": "markdown",
   "metadata": {},
   "source": [
    "##### P(H)=28/95 and P(PF)= 59/94"
   ]
  },
  {
   "cell_type": "code",
   "execution_count": 167,
   "metadata": {},
   "outputs": [
    {
     "name": "stdout",
     "output_type": "stream",
     "text": [
      "The probability is: 18.5 %\n"
     ]
    }
   ],
   "source": [
    "x=round((28/95)*(59/94)*100,2)\n",
    "print(\"The probability is:\",x,\"%\")"
   ]
  },
  {
   "cell_type": "markdown",
   "metadata": {},
   "source": [
    "##### (b) Determine the probability of drawing a fiction book first and then a hardcover book second, when drawing without replacement."
   ]
  },
  {
   "cell_type": "code",
   "execution_count": 169,
   "metadata": {},
   "outputs": [
    {
     "name": "stdout",
     "output_type": "stream",
     "text": [
      "The probability is: 22.58 %\n"
     ]
    }
   ],
   "source": [
    "y=round((72/95)*(28/94)*100,2)\n",
    "print(\"The probability is:\",y,\"%\")"
   ]
  },
  {
   "cell_type": "markdown",
   "metadata": {},
   "source": [
    "##### (c) Calculate the probability of the scenario in part (b), except this time complete the calculations under the scenario where the first book is placed back on the bookcase before randomly drawing the second book"
   ]
  },
  {
   "cell_type": "code",
   "execution_count": 170,
   "metadata": {},
   "outputs": [
    {
     "name": "stdout",
     "output_type": "stream",
     "text": [
      "The probability is: 22.34 %\n"
     ]
    }
   ],
   "source": [
    "z=round((72/95)*(28/95)*100,2)\n",
    "print(\"The probability is:\",z,\"%\")"
   ]
  },
  {
   "cell_type": "markdown",
   "metadata": {},
   "source": [
    "##### (d) The final answers to parts (b) and (c) are very similar. Explain why this is the case"
   ]
  },
  {
   "cell_type": "markdown",
   "metadata": {},
   "source": [
    "The answers are similar because only one book is being picked and replaced/not replaced out of 95 total books. The probability outcomes are so high when only considering one book out of the total."
   ]
  },
  {
   "cell_type": "code",
   "execution_count": 40,
   "metadata": {},
   "outputs": [],
   "source": [
    "card=pd.DataFrame(data=[[26/52,13/52,13/52,1/52]])"
   ]
  },
  {
   "cell_type": "markdown",
   "metadata": {},
   "source": [
    "### Exercise 3.34"
   ]
  },
  {
   "cell_type": "code",
   "execution_count": 172,
   "metadata": {},
   "outputs": [
    {
     "data": {
      "text/html": [
       "<div>\n",
       "<style scoped>\n",
       "    .dataframe tbody tr th:only-of-type {\n",
       "        vertical-align: middle;\n",
       "    }\n",
       "\n",
       "    .dataframe tbody tr th {\n",
       "        vertical-align: top;\n",
       "    }\n",
       "\n",
       "    .dataframe thead th {\n",
       "        text-align: right;\n",
       "    }\n",
       "</style>\n",
       "<table border=\"1\" class=\"dataframe\">\n",
       "  <thead>\n",
       "    <tr style=\"text-align: right;\">\n",
       "      <th></th>\n",
       "      <th>Red Card</th>\n",
       "      <th>Spade</th>\n",
       "      <th>Clubs w/o Ace</th>\n",
       "      <th>Ace of clubs</th>\n",
       "      <th>Total</th>\n",
       "    </tr>\n",
       "  </thead>\n",
       "  <tbody>\n",
       "    <tr>\n",
       "      <td>Price</td>\n",
       "      <td>$0</td>\n",
       "      <td>$5</td>\n",
       "      <td>$10</td>\n",
       "      <td>$30</td>\n",
       "      <td>$0</td>\n",
       "    </tr>\n",
       "    <tr>\n",
       "      <td>Probability</td>\n",
       "      <td>26/52</td>\n",
       "      <td>13/52</td>\n",
       "      <td>12/52</td>\n",
       "      <td>1/52</td>\n",
       "      <td>0</td>\n",
       "    </tr>\n",
       "    <tr>\n",
       "      <td>Expected Value</td>\n",
       "      <td>0*26/52</td>\n",
       "      <td>5*13/52</td>\n",
       "      <td>10*12/52</td>\n",
       "      <td>30*1/52</td>\n",
       "      <td>($, 4.13)</td>\n",
       "    </tr>\n",
       "    <tr>\n",
       "      <td>Variance</td>\n",
       "      <td>8.54752</td>\n",
       "      <td>0.187223</td>\n",
       "      <td>7.93909</td>\n",
       "      <td>12.8657</td>\n",
       "      <td>29.5396</td>\n",
       "    </tr>\n",
       "  </tbody>\n",
       "</table>\n",
       "</div>"
      ],
      "text/plain": [
       "               Red Card     Spade Clubs w/o Ace Ace of clubs      Total\n",
       "Price                $0        $5           $10          $30         $0\n",
       "Probability       26/52     13/52         12/52         1/52          0\n",
       "Expected Value  0*26/52   5*13/52      10*12/52      30*1/52  ($, 4.13)\n",
       "Variance        8.54752  0.187223       7.93909      12.8657    29.5396"
      ]
     },
     "execution_count": 172,
     "metadata": {},
     "output_type": "execute_result"
    }
   ],
   "source": [
    "exp_w=(0*26/52+5*13/52+10*12/52+30*1/52)\n",
    "var_r=((0-ex)**2)*26/52\n",
    "var_s=((5-ex)**2)*13/52\n",
    "var_c=((10-ex)**2)*12/52\n",
    "var_a=((30-ex)**2)*1/52\n",
    "var_t=var_a+var_c+var_s+var_r\n",
    "dfl=pd.DataFrame(data=[['$0','$5','$10','$30','$0'],['26/52','13/52','12/52','1/52','0'],['0*26/52','5*13/52','10*12/52','30*1/52',('$',round((exp_w),2))],[var_r,var_s,var_c,var_a,var_t]],columns=[\"Red Card\", \"Spade\",\"Clubs w/o Ace\", \"Ace of clubs\", \"Total\"], index=[\"Price\", \"Probability\",\"Expected Value\", \"Variance\"])\n",
    "dfl"
   ]
  },
  {
   "cell_type": "markdown",
   "metadata": {},
   "source": [
    "#### (a) Create a probability model for the amount you win at this game. Also, find the expected winnings for a single game and the standard deviation of the winnings.\n"
   ]
  },
  {
   "cell_type": "code",
   "execution_count": 151,
   "metadata": {},
   "outputs": [
    {
     "name": "stdout",
     "output_type": "stream",
     "text": [
      "The Expected winings for a single is: 4.13\n",
      "The standard deviation of the winning is: 5.44\n"
     ]
    }
   ],
   "source": [
    "std_w=np.sqrt(var_t)\n",
    "low_p=(std_w-var_t)\n",
    "\n",
    "print(\"The Expected winings for a single is: %.2f\"%ex)\n",
    "print(\"The standard deviation of the winning is: %.2f\"%std_w)"
   ]
  },
  {
   "cell_type": "markdown",
   "metadata": {},
   "source": [
    "#### (b) What is the maximum amount you would be willing to pay to play this game? Explain your reasoning."
   ]
  },
  {
   "cell_type": "markdown",
   "metadata": {},
   "source": [
    "#### Answer: I would not be willing to pay more than 4 dollars to play the game as the expected winnings are 4.13 dollars especially if you consider that the standard deviation is so high."
   ]
  },
  {
   "cell_type": "markdown",
   "metadata": {},
   "source": [
    "### Exercise 3.40\n"
   ]
  },
  {
   "cell_type": "markdown",
   "metadata": {},
   "source": [
    "#### (a) Suppose you play roulette and bet 3 dollar on a single round. What is the expected value and standard deviation of your total winnings?"
   ]
  },
  {
   "cell_type": "code",
   "execution_count": 128,
   "metadata": {},
   "outputs": [
    {
     "name": "stdout",
     "output_type": "stream",
     "text": [
      "The expected values for $3 rounds is: -0.081\n",
      "The Variance is: 8.993\n",
      "The standard deviation for $3 rounds is: 2.999\n"
     ]
    }
   ],
   "source": [
    "w=3\n",
    "l=-3\n",
    "\n",
    "ex3=w*(18/37)+(l*(19/37))\n",
    "print(\"The expected values for $3 rounds is: %.3f\" %ex3)\n",
    "\n",
    "va=((l-ex3)**2)*(19/37)+((w-ex3)**2)*(18/37)\n",
    "print(\"The Variance is: %.3f\" %va)\n",
    "\n",
    "st=np.sqrt(va)\n",
    "\n",
    "print(\"The standard deviation for $3 rounds is: %.3f\" %st)"
   ]
  },
  {
   "cell_type": "markdown",
   "metadata": {},
   "source": [
    "#### (b) Suppose you bet 1 in three different rounds. What is the expected value and standard deviation of your total winnings?\n"
   ]
  },
  {
   "cell_type": "code",
   "execution_count": 176,
   "metadata": {},
   "outputs": [
    {
     "name": "stdout",
     "output_type": "stream",
     "text": [
      "The expected values for $1 rounds is: -0.027027027027026973\n",
      "0.9992695398100804\n",
      "The standard deviation for $1 rounds is: 0.9996347031841584\n",
      "The expected value for 3 games of $1 rounds:  -0.08108108108108092\n"
     ]
    }
   ],
   "source": [
    "w=1\n",
    "l=-1\n",
    "\n",
    "ex=w*(18/37)+(l*(19/37))\n",
    "print(\"The expected values for $1 rounds is:\",ex)\n",
    "\n",
    "va=((l-ex)**2)*(19/37)+((w-ex)**2)*(18/37)\n",
    "print(va)\n",
    "\n",
    "st=np.sqrt(va)\n",
    "\n",
    "print(\"The standard deviation for $1 rounds is:\",st)\n",
    "\n",
    "print(\"The expected value for 3 games of $1 rounds: \",(3*ex))"
   ]
  },
  {
   "cell_type": "markdown",
   "metadata": {},
   "source": [
    "#### (c) How do your answers to parts (a) and (b) compare? What does this say about the riskiness of the two games?"
   ]
  },
  {
   "cell_type": "markdown",
   "metadata": {},
   "source": [
    "#### They are same. The risk is the same."
   ]
  },
  {
   "cell_type": "markdown",
   "metadata": {},
   "source": [
    "### Monty Hall Show"
   ]
  },
  {
   "cell_type": "code",
   "execution_count": 108,
   "metadata": {},
   "outputs": [
    {
     "name": "stdout",
     "output_type": "stream",
     "text": [
      "166901 83263\n",
      "82970 166866\n"
     ]
    }
   ],
   "source": [
    "# Three doors for random choose\n",
    "doors=[1,2,3]\n",
    "# door 2 will the wining door\n",
    "win_d=2\n",
    "lose_d1=1\n",
    "lose_d2=3\n",
    "\n",
    "pd2=[]\n",
    "pd1=[]\n",
    "switch_win=0\n",
    "switch_lose=0\n",
    "stay_lose=0\n",
    "stay_win=0\n",
    "for p in range (500000):\n",
    "    p1=np.random.choice(doors, replace=True)\n",
    "    pd1.append(p1)\n",
    "    if p1==lose_d1:\n",
    "        p2=np.random.choice([lose_d1,win_d], replace=True)\n",
    "        pd2.append(p2)\n",
    "        if p2==win_d:\n",
    "            switch_win+=1\n",
    "        elif p2==lose_d1:\n",
    "            stay_lose+=1\n",
    "    elif p1==2:\n",
    "        p2=np.random.choice([lose_d1,win_d], replace=True)\n",
    "        pd2.append(p2)\n",
    "        if p2==win_d:\n",
    "            stay_win+=1\n",
    "        elif p2==lose_d1:\n",
    "            switch_lose+=1\n",
    "    elif p1==lose_d2:\n",
    "        p2=np.random.choice([win_d,lose_d2], replace=True)\n",
    "        pd2.append(p2)   \n",
    "        if p2==win_d:\n",
    "            switch_win+=1\n",
    "        elif p2==lose_d2:\n",
    "            stay_lose+=1\n",
    "#print(p1,p2)\n",
    "#print(yax)\n",
    "\n",
    "#plt.plot(yax,p1,p2)\n",
    "#plt.axis\n",
    "#plt.show()\n",
    "print(switch_win,stay_win)\n",
    "print(switch_lose,stay_lose)\n"
   ]
  },
  {
   "cell_type": "code",
   "execution_count": 180,
   "metadata": {},
   "outputs": [
    {
     "name": "stdout",
     "output_type": "stream",
     "text": [
      "166901 83263\n",
      "82970 166866\n"
     ]
    },
    {
     "data": {
      "image/png": "[encoded data removed]",
      "text/plain": [
       "<Figure size 432x288 with 1 Axes>"
      ]
     },
     "metadata": {
      "needs_background": "light"
     },
     "output_type": "display_data"
    }
   ],
   "source": [
    "print(switch_win,stay_win)\n",
    "print(switch_lose,stay_lose)\n",
    "\n",
    "wy=[switch_win,stay_win]\n",
    "wx=[\"Switch win\", \"Stay win\"]\n",
    "\n",
    "ly=[switch_lose,stay_lose]\n",
    "lx=[\"Switch lose\", \"Stay lose\"]\n",
    "\n",
    "plt.title('Fig1: Probabability-Monty Hall ')\n",
    "plt.xlabel('Categories')\n",
    "plt.ylabel('# of wins/loses')\n",
    "\n",
    "plt.bar(wx,wy)\n",
    "plt.bar(lx,ly)\n",
    "plt.show()"
   ]
  },
  {
   "cell_type": "code",
   "execution_count": 120,
   "metadata": {},
   "outputs": [
    {
     "name": "stdout",
     "output_type": "stream",
     "text": [
      "Total Wins= 250164\n",
      "\n"
     ]
    },
    {
     "data": {
      "image/png": "[encoded data removed]",
      "text/plain": [
       "<Figure size 432x288 with 1 Axes>"
      ]
     },
     "metadata": {},
     "output_type": "display_data"
    }
   ],
   "source": [
    "print(\"Total Wins=\", t_wins)\n",
    "t_wins=switch_win+stay_win\n",
    "p_lab=\"switch_win\", \"stay_win\"\n",
    "p_size=[switch_win/t_wins,stay_win/t_wins]\n",
    "p_exp=(0,0.1)\n",
    "\n",
    "fig1, wax=plt.subplots()\n",
    "wax.pie(p_size,explode=p_exp,labels=p_lab,autopct='%1.1f%%', shadow=True, startangle=90, colors=(\"g\",\"r\"))\n",
    "wax.axis('equal')\n",
    "\n",
    "plt.show\n",
    "print('')"
   ]
  },
  {
   "cell_type": "markdown",
   "metadata": {},
   "source": [
    "#### Based on 500,000 games played and approx. 250,000 wins out which 2/3 of the wins came from switching the door once one of the doors is eliminated, I can confindentaly say it is to your advantage to change your choice. There is 66.6% percent chance of winning after switching the door."
   ]
  }
 ],
 "metadata": {
  "kernelspec": {
   "display_name": "Python 3",
   "language": "python",
   "name": "python3"
  },
  "language_info": {
   "codemirror_mode": {
    "name": "ipython",
    "version": 3
   },
   "file_extension": ".py",
   "mimetype": "text/x-python",
   "name": "python",
   "nbconvert_exporter": "python",
   "pygments_lexer": "ipython3",
   "version": "3.7.6"
  }
 },
 "nbformat": 4,
 "nbformat_minor": 2
}
