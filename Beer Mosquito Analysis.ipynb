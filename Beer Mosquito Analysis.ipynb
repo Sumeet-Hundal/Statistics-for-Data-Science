{
 "cells": [
  {
   "cell_type": "markdown",
   "metadata": {},
   "source": [
    "## Question 1\n",
    "\n",
    "Create side-by-side boxplots for the number of mosquitoes in each group (beer vs water)\n"
   ]
  },
  {
   "cell_type": "code",
   "execution_count": 21,
   "metadata": {
    "scrolled": true
   },
   "outputs": [
    {
     "name": "stdout",
     "output_type": "stream",
     "text": [
      "\n"
     ]
    },
    {
     "data": {
      "image/png": "[encoded data removed]",
      "text/plain": [
       "<Figure size 432x288 with 1 Axes>"
      ]
     },
     "metadata": {
      "needs_background": "light"
     },
     "output_type": "display_data"
    }
   ],
   "source": [
    "import numpy as np\n",
    "import matplotlib.pyplot as plt\n",
    "import csv\n",
    "\n",
    "# Import the assignement csv file and store it \n",
    "with open('mosquitos_data-2.csv', 'r') as exp_data:\n",
    "    data_reader= csv.DictReader(exp_data)\n",
    "    \n",
    "    \n",
    "    responses=[]\n",
    "# Storing the all the data points as list     \n",
    "    for line in data_reader:\n",
    "        responses.append(int(line['Response']))\n",
    "        \n",
    "beer=responses[:25]\n",
    "water=responses[25:]\n",
    "\n",
    "x0=plt.subplot()\n",
    "x0.boxplot([beer,water])\n",
    "plt.xlabel('Treatment')\n",
    "plt.ylabel('Responses')\n",
    "x0.set_xticklabels(['Beer', 'Water'])\n",
    "x0.set_title(\"Mosquito Experiment\")\n",
    "print(\"\")\n"
   ]
  },
  {
   "cell_type": "markdown",
   "metadata": {},
   "source": [
    "## Question 2\n",
    "\n",
    "What does the graph reveal about the data for both groups? Is there an association between beer consumption and attractiveness to mosquitoes?\n"
   ]
  },
  {
   "cell_type": "markdown",
   "metadata": {},
   "source": [
    "ANSWER: The graph shows that there is some significant different betweeen the two sets of data for beer and water from the experiment. Based on the higher number of mosquitos bites from beer data as it shows on the graph, consuption of beer is more attractive to mosquitos.  "
   ]
  },
  {
   "cell_type": "markdown",
   "metadata": {},
   "source": [
    "## Question 3\n",
    "\n",
    "Calculate basic statistics measures for each group: the mean, median, standard deviation and explain the numbers.\n"
   ]
  },
  {
   "cell_type": "code",
   "execution_count": 3,
   "metadata": {},
   "outputs": [
    {
     "name": "stdout",
     "output_type": "stream",
     "text": [
      "The mean for beer data is: 23.6\n",
      "The median for beer data is: 24.0\n",
      "The standard deviation for beer data is: 4.05\n",
      "The mean for water data is: 19.0\n",
      "The median for water data is: 20.0\n",
      "The standard deviation for water data is: 3.57\n"
     ]
    }
   ],
   "source": [
    "print(\"The mean for beer data is:\", np.mean(beer))\n",
    "print(\"The median for beer data is:\", np.median(beer))\n",
    "print(\"The standard deviation for beer data is:\", round(np.std(beer),2))\n",
    "\n",
    "\n",
    "print(\"The mean for water data is:\", round(np.mean(water)))\n",
    "print(\"The median for water data is:\", np.median(water))\n",
    "print(\"The standard deviation for water data is:\", round(np.std(water),2))"
   ]
  },
  {
   "cell_type": "markdown",
   "metadata": {},
   "source": [
    "## Question 4\n",
    "\n",
    "Write the code to implement the data simulation demonstrated in the above mentioned video. Calculate the probability of obtaining the experiment outcome."
   ]
  },
  {
   "cell_type": "code",
   "execution_count": 44,
   "metadata": {},
   "outputs": [
    {
     "data": {
      "image/png": "[encoded data removed]",
      "text/plain": [
       "<Figure size 432x288 with 1 Axes>"
      ]
     },
     "metadata": {
      "needs_background": "light"
     },
     "output_type": "display_data"
    }
   ],
   "source": [
    "# Shuffling the data 300,000 times to collect as many possible variances\n",
    "v_t=[]\n",
    "for i in range(300000):\n",
    "    t1=np.concatenate((beer,water), axis=0)\n",
    "    sh=np.random.shuffle(t1)\n",
    "    beer_1= t1[:25]\n",
    "    water_1= t1[25:]\n",
    "    beer_m=np.mean(beer_1)\n",
    "    water_m=np.mean(water_1)\n",
    "    v_t=np.append(v_t,(round(beer_m-water_m,2)))\n",
    "\n",
    "# Frequency of values collected from 300,000 iterations\n",
    "variance, counts=(np.unique(v_t, return_counts=True))\n",
    "\n",
    "plt.plot(variance, counts)\n",
    "plt.title('Random Mean Variation')\n",
    "plt.xlabel('Mean Variation')\n",
    "plt.ylabel('Frequency')\n",
    "# plot the third deviation from the mean which represents 99.9%\n",
    "plt.axvline(x=np.mean(v_t)+((np.std(v_t))*3), color=\"orange\")\n",
    "# plot red line for the experiment result\n",
    "plt.axvline(round(np.mean(beer)-np.mean(water),2), color=\"red\")\n",
    "plt.show()"
   ]
  },
  {
   "cell_type": "code",
   "execution_count": 66,
   "metadata": {
    "scrolled": true
   },
   "outputs": [
    {
     "name": "stdout",
     "output_type": "stream",
     "text": [
      "The Variance of experiment data is: 4.38\n",
      "The mean for total random variation is: 0.0002\n",
      "The standard deviation of total random variation is: 1.0\n",
      "The third deviation for total random variation is: 4.15\n",
      "Out of 300,000 iterations, the experiment reults show up: 44 times.\n",
      "The probability of obtaining experiment outcome is: 0.022000000000000002 %\n"
     ]
    }
   ],
   "source": [
    "print(\"The Variance of experiment data is:\",round(np.mean(beer)-np.mean(water),2))\n",
    "print(\"The mean for total random variation is:\", round(np.mean(v_t),4))\n",
    "\n",
    "print(\"The standard deviation of total random variation is:\",round(np.std(v_t)))\n",
    "print(\"The third deviation for total random variation is:\",round(np.mean(v_t)+(np.std(v_t)*3),2))\n",
    "p=np.count_nonzero(v_t==4.38)\n",
    "print(\"Out of 300,000 iterations, the experiment reults show up:\",p, \"times.\")\n",
    "print(\"The probability of obtaining experiment outcome is:\",((p/200000)*100),\"%\")\n"
   ]
  }
 ],
 "metadata": {
  "kernelspec": {
   "display_name": "Python 3",
   "language": "python",
   "name": "python3"
  },
  "language_info": {
   "codemirror_mode": {
    "name": "ipython",
    "version": 3
   },
   "file_extension": ".py",
   "mimetype": "text/x-python",
   "name": "python",
   "nbconvert_exporter": "python",
   "pygments_lexer": "ipython3",
   "version": "3.7.6"
  }
 },
 "nbformat": 4,
 "nbformat_minor": 2
}
